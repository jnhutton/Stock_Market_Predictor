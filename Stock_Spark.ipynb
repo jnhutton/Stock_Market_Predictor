{
  "cells": [
    {
      "cell_type": "markdown",
      "metadata": {
        "id": "view-in-github",
        "colab_type": "text"
      },
      "source": [
        "<a href=\"https://colab.research.google.com/github/carlosvalenciano/Project4/blob/main/Stock_Spark.ipynb\" target=\"_parent\"><img src=\"https://colab.research.google.com/assets/colab-badge.svg\" alt=\"Open In Colab\"/></a>"
      ]
    },
    {
      "cell_type": "code",
      "execution_count": 4,
      "metadata": {
        "colab": {
          "base_uri": "https://localhost:8080/"
        },
        "id": "a_KW73O2e3dw",
        "outputId": "5823f620-2364-4edf-ab72-4e0e358c81b8"
      },
      "outputs": [
        {
          "output_type": "stream",
          "name": "stdout",
          "text": [
            "\r0% [Working]\r            \rGet:1 https://cloud.r-project.org/bin/linux/ubuntu jammy-cran40/ InRelease [3,626 B]\n",
            "\r0% [Connecting to archive.ubuntu.com (185.125.190.36)] [Connecting to security.ubuntu.com (185.125.1\r0% [Connecting to archive.ubuntu.com (185.125.190.36)] [Connecting to security.ubuntu.com (185.125.1\r                                                                                                    \rGet:2 https://developer.download.nvidia.com/compute/cuda/repos/ubuntu2204/x86_64  InRelease [1,581 B]\n",
            "\r0% [Waiting for headers] [Waiting for headers] [Connected to ppa.launchpadcontent.net (185.125.190.8\r                                                                                                    \rGet:3 http://security.ubuntu.com/ubuntu jammy-security InRelease [110 kB]\n",
            "\r0% [Waiting for headers] [3 InRelease 12.7 kB/110 kB 12%] [Connected to ppa.launchpadcontent.net (18\r                                                                                                    \rHit:4 http://archive.ubuntu.com/ubuntu jammy InRelease\n",
            "Get:5 http://archive.ubuntu.com/ubuntu jammy-updates InRelease [119 kB]\n",
            "Get:6 https://developer.download.nvidia.com/compute/cuda/repos/ubuntu2204/x86_64  Packages [634 kB]\n",
            "Hit:7 https://ppa.launchpadcontent.net/c2d4u.team/c2d4u4.0+/ubuntu jammy InRelease\n",
            "Hit:8 https://ppa.launchpadcontent.net/deadsnakes/ppa/ubuntu jammy InRelease\n",
            "Hit:9 https://ppa.launchpadcontent.net/graphics-drivers/ppa/ubuntu jammy InRelease\n",
            "Hit:10 https://ppa.launchpadcontent.net/ubuntugis/ppa/ubuntu jammy InRelease\n",
            "Get:11 http://archive.ubuntu.com/ubuntu jammy-backports InRelease [109 kB]\n",
            "Get:12 http://security.ubuntu.com/ubuntu jammy-security/restricted amd64 Packages [1,572 kB]\n",
            "Get:13 http://archive.ubuntu.com/ubuntu jammy-updates/universe amd64 Packages [1,304 kB]\n",
            "Get:14 http://security.ubuntu.com/ubuntu jammy-security/universe amd64 Packages [1,036 kB]\n",
            "Get:15 http://security.ubuntu.com/ubuntu jammy-security/main amd64 Packages [1,325 kB]\n",
            "Get:16 http://archive.ubuntu.com/ubuntu jammy-updates/restricted amd64 Packages [1,602 kB]\n",
            "Get:17 http://archive.ubuntu.com/ubuntu jammy-updates/main amd64 Packages [1,598 kB]\n",
            "Get:18 http://archive.ubuntu.com/ubuntu jammy-backports/main amd64 Packages [50.4 kB]\n",
            "Get:19 http://archive.ubuntu.com/ubuntu jammy-backports/universe amd64 Packages [28.1 kB]\n",
            "Fetched 9,493 kB in 2s (5,234 kB/s)\n",
            "Reading package lists... Done\n"
          ]
        }
      ],
      "source": [
        "import os\n",
        "# Find the latest version of spark 3.x  from http://www.apache.org/dist/spark/ and enter as the spark version\n",
        "# For example:\n",
        "# spark_version = 'spark-3.4.0'\n",
        "spark_version = 'spark-3.5.0'\n",
        "os.environ['SPARK_VERSION']=spark_version\n",
        "\n",
        "# Install Spark and Java\n",
        "!apt-get update\n",
        "!apt-get install openjdk-11-jdk-headless -qq > /dev/null\n",
        "!wget -q http://www.apache.org/dist/spark/$SPARK_VERSION/$SPARK_VERSION-bin-hadoop3.tgz\n",
        "!tar xf $SPARK_VERSION-bin-hadoop3.tgz\n",
        "!pip install -q findspark\n",
        "\n",
        "# Set Environment Variables\n",
        "os.environ[\"JAVA_HOME\"] = \"/usr/lib/jvm/java-11-openjdk-amd64\"\n",
        "os.environ[\"SPARK_HOME\"] = f\"/content/{spark_version}-bin-hadoop3\"\n",
        "\n",
        "# Start a SparkSession\n",
        "import findspark\n",
        "findspark.init()"
      ]
    },
    {
      "cell_type": "code",
      "execution_count": 5,
      "metadata": {
        "id": "2XbWNf1Te5fM"
      },
      "outputs": [],
      "source": [
        "# Import packages\n",
        "from pyspark.sql import SparkSession\n",
        "import time\n",
        "import datetime as dt\n",
        "\n",
        "# Create a SparkSession\n",
        "spark = SparkSession.builder.appName(\"SparkSQL\").getOrCreate()"
      ]
    },
    {
      "cell_type": "code",
      "execution_count": 7,
      "metadata": {
        "id": "wOJqxG_RPSwp",
        "colab": {
          "base_uri": "https://localhost:8080/"
        },
        "outputId": "18e193cf-1ee6-41ec-fcf6-b1c55e7e490b"
      },
      "outputs": [
        {
          "output_type": "stream",
          "name": "stdout",
          "text": [
            "+----------+-----------+-----------+-----------+-----------+-----------+---------+------------+------------+---------------+\n",
            "|      Date|       Open|       High|        Low|      Close|  Adj_Close|   Volume|company_name|Scaled_Close|predicted_close|\n",
            "+----------+-----------+-----------+-----------+-----------+-----------+---------+------------+------------+---------------+\n",
            "|2019-12-12|66.94499969|68.13999939|66.83000183|67.86499786|66.11624908|137310400|       APPLE| 0.045575656|    72.47750092|\n",
            "|2019-12-13|67.86499786|68.82499695|67.73249817|68.78749847|67.01499176|133587600|       APPLE| 0.048372223|    72.44999695|\n",
            "|2019-12-16|      69.25|70.19750214|69.24500275|69.96499634|68.16214752|128186000|       APPLE| 0.051941815|    72.87999725|\n",
            "|2019-12-17|69.89250183|70.44249725|69.69999695|70.10250092|68.29610443|114158400|       APPLE| 0.052358661|    73.41249847|\n",
            "|2019-12-18|69.94999695|70.47499847|69.77999878|69.93499756|68.13290405|116028400|       APPLE| 0.051850873|    75.08750153|\n",
            "|2019-12-19|     69.875|70.29499817|69.73750305|70.00499725|68.20111847| 98369200|       APPLE| 0.052063078|    74.35749817|\n",
            "|2019-12-20|70.55750275|70.66249847|69.63999939|69.86000061| 68.0598526|275978000|       APPLE|  0.05162352|    64.46804047|\n",
            "|2019-12-23|70.13249969|    71.0625|70.09249878|         71|69.17047882| 98572000|       APPLE| 0.055079435|    64.96473694|\n",
            "|2019-12-24|71.17250061|71.22250366|70.73000336|71.06749725|69.23622894| 48478800|       APPLE| 0.055284053|    65.37545776|\n",
            "|2019-12-26|71.20500183|72.49500275|71.17500305|72.47750092|70.60991669| 93121200|       APPLE| 0.059558488|    66.24635315|\n",
            "|2019-12-27|72.77999878|73.49250031|72.02999878|72.44999695|70.58312225|146266000|       APPLE|  0.05947511|    66.79875183|\n",
            "|2019-12-30|72.36499786|73.17250061|71.30500031|72.87999725|71.00204468|144114400|       APPLE| 0.060778659|    67.24473572|\n",
            "|2019-12-31|72.48249817|73.41999817|72.37999725|73.41249847|71.52080536|100805600|       APPLE| 0.062392939|    67.72517395|\n",
            "|2020-01-02|74.05999756|75.15000153|73.79750061|75.08750153|73.15264893|135480400|       APPLE| 0.067470722|    68.79457855|\n",
            "|2020-01-03|74.28749847|75.14499664|     74.125|74.35749817| 72.4414444|146322800|       APPLE| 0.065257712|    69.14817047|\n",
            "|2020-01-06|73.44750214|74.98999786|    73.1875|74.94999695|73.01867676|118387200|       APPLE| 0.067053876|    69.49097443|\n",
            "|2020-01-07|74.95999908|75.22499847|74.37000275|74.59750366|72.67528534|108872000|       APPLE|  0.06598529|    69.51239014|\n",
            "|2020-01-08|74.29000092|76.11000061|74.29000092|75.79750061|73.84435272|132079200|       APPLE| 0.069623088|    70.03868866|\n",
            "|2020-01-09|76.80999756|77.60749817|76.55000305|77.40750122|75.41287231|170108400|       APPLE| 0.074503816|    71.19089508|\n",
            "|2020-01-10|77.65000153|78.16750336|    77.0625|77.58249664|75.58335876|140644800|       APPLE| 0.075034315|    72.02346802|\n",
            "+----------+-----------+-----------+-----------+-----------+-----------+---------+------------+------------+---------------+\n",
            "only showing top 20 rows\n",
            "\n"
          ]
        }
      ],
      "source": [
        "# 1. Read in the csv into a DataFrame.\n",
        "\n",
        "df = spark.read.format(\"csv\").option(\"header\", \"true\").load(\"Multiple_Stocks.csv\")\n",
        "df.show()\n"
      ]
    },
    {
      "cell_type": "code",
      "execution_count": 8,
      "metadata": {
        "id": "RoljcJ7WPpnm"
      },
      "outputs": [],
      "source": [
        "# 2. Create a temporary view of the DataFrame.\n",
        "df.createOrReplaceTempView('stocks')\n"
      ]
    },
    {
      "cell_type": "code",
      "execution_count": 9,
      "metadata": {
        "id": "L6fkwOeOmqvq",
        "colab": {
          "base_uri": "https://localhost:8080/"
        },
        "outputId": "ef001201-0688-4973-e356-4e6f7337115a"
      },
      "outputs": [
        {
          "output_type": "stream",
          "name": "stdout",
          "text": [
            "+---------+------------------+\n",
            "|  Company|   Predicted_Close|\n",
            "+---------+------------------+\n",
            "|MICROSOFT|       373.3289693|\n",
            "|     META| 328.2066650333333|\n",
            "|    APPLE|194.51652016666665|\n",
            "|   AMAZON|       145.0767466|\n",
            "|   GOOGLE|133.76257833333332|\n",
            "+---------+------------------+\n",
            "\n"
          ]
        }
      ],
      "source": [
        "# Calculated the Predicted Close for the next three days\n",
        "spark.sql(\"\"\"\n",
        "SELECT\n",
        "  company_name AS Company,\n",
        "  (Avg(predicted_close)) AS Predicted_Close\n",
        "  FROM stocks\n",
        "  WHERE Date BETWEEN ('2023-12-07') AND ('2023-12-11')\n",
        "  GROUP BY Company\n",
        "  ORDER BY Predicted_Close DESC\n",
        "\"\"\").show()"
      ]
    },
    {
      "cell_type": "code",
      "source": [
        "# Dataframe that tell whether the stocks went down or up based on the open and close for the day\n",
        "spark.sql(\"\"\"\n",
        "SELECT\n",
        "Date,\n",
        "company_name,\n",
        "Open,\n",
        "Close,\n",
        "CASE WHEN (close < open) THEN 'DOWN'\n",
        "     WHEN (close > open) THEN 'UP'\n",
        " \t   ELSE '0'\n",
        "END AS Direction\n",
        "FROM stocks\n",
        "WHERE company_name == 'META'\n",
        "\"\"\").show()"
      ],
      "metadata": {
        "colab": {
          "base_uri": "https://localhost:8080/"
        },
        "id": "y58XLUWn7vzW",
        "outputId": "4e6ae133-2caf-4881-cc64-5cb26abc774a"
      },
      "execution_count": 55,
      "outputs": [
        {
          "output_type": "stream",
          "name": "stdout",
          "text": [
            "+----------+------------+-----------+-----------+---------+\n",
            "|      Date|company_name|       Open|      Close|Direction|\n",
            "+----------+------------+-----------+-----------+---------+\n",
            "|2019-12-12|        META|202.3500061|     196.75|     DOWN|\n",
            "|2019-12-13|        META|196.3999939|194.1100006|     DOWN|\n",
            "|2019-12-16|        META|195.2700043|197.9199982|       UP|\n",
            "|2019-12-17|        META|198.8399963|198.3899994|     DOWN|\n",
            "|2019-12-18|        META|200.0899963|      202.5|       UP|\n",
            "|2019-12-19|        META|202.7799988|206.0599976|       UP|\n",
            "|2019-12-20|        META|207.4799957|206.3000031|     DOWN|\n",
            "|2019-12-23|        META|206.6999969|206.1799927|     DOWN|\n",
            "|2019-12-24|        META|206.3000031|205.1199951|     DOWN|\n",
            "|2019-12-26|        META|205.5700073|207.7899933|       UP|\n",
            "|2019-12-27|        META|208.6699982|208.1000061|     DOWN|\n",
            "|2019-12-30|        META|207.8600006|204.4100037|     DOWN|\n",
            "|2019-12-31|        META|        204|     205.25|       UP|\n",
            "|2020-01-02|        META|     206.75|209.7799988|       UP|\n",
            "|2020-01-03|        META|207.2100067|208.6699982|       UP|\n",
            "|2020-01-06|        META|206.6999969|212.6000061|       UP|\n",
            "|2020-01-07|        META|212.8200073|213.0599976|       UP|\n",
            "|2020-01-08|        META|        213|215.2200012|       UP|\n",
            "|2020-01-09|        META|217.5399933|218.3000031|       UP|\n",
            "|2020-01-10|        META|219.1999969|218.0599976|     DOWN|\n",
            "+----------+------------+-----------+-----------+---------+\n",
            "only showing top 20 rows\n",
            "\n"
          ]
        }
      ]
    },
    {
      "cell_type": "code",
      "source": [
        "# Calculated the Yearly Change for 2023\n",
        "spark.sql(\"\"\"\n",
        "SELECT\n",
        "company_name AS Company,\n",
        "(Avg(predicted_close)) * 100) AS Yearly_Change\n",
        "FROM stocks\n",
        "WHERE Year(Date) == 2023\n",
        "GROUP BY company_name\n",
        "ORDER BY Yearly_Change DESC\n",
        "\"\"\").show()"
      ],
      "metadata": {
        "colab": {
          "base_uri": "https://localhost:8080/"
        },
        "id": "pVVwGVAP_dBP",
        "outputId": "29ce9d1e-d7de-47f8-f8a2-9b6bc9fbda23"
      },
      "execution_count": 35,
      "outputs": [
        {
          "output_type": "stream",
          "name": "stdout",
          "text": [
            "+---------+------------------+\n",
            "|  Company|     Yearly_Change|\n",
            "+---------+------------------+\n",
            "|     META|164.84285913900715|\n",
            "|   AMAZON| 70.71144508605813|\n",
            "|MICROSOFT| 52.74806033015259|\n",
            "|   GOOGLE|49.949898871108594|\n",
            "|    APPLE|48.280622105747234|\n",
            "+---------+------------------+\n",
            "\n"
          ]
        }
      ]
    },
    {
      "cell_type": "code",
      "source": [
        "# Calculated the Yearly Change for 2022\n",
        "spark.sql(\"\"\"\n",
        "SELECT\n",
        "company_name AS Company,\n",
        "(((LAST_VALUE(Close) - FIRST_VALUE(Open))/FIRST_VALUE(Open)) * 100) AS Yearly_Change\n",
        "FROM stocks\n",
        "WHERE Year(Date) == 2022\n",
        "GROUP BY company_name\n",
        "ORDER BY Yearly_Change DESC\n",
        "\"\"\").show()\n",
        ""
      ],
      "metadata": {
        "colab": {
          "base_uri": "https://localhost:8080/"
        },
        "id": "TE48pkhUXVjE",
        "outputId": "1cf718f3-974d-486e-d5f7-5a13f722ee44"
      },
      "execution_count": 36,
      "outputs": [
        {
          "output_type": "stream",
          "name": "stdout",
          "text": [
            "+---------+-------------------+\n",
            "|  Company|      Yearly_Change|\n",
            "+---------+-------------------+\n",
            "|    APPLE|-26.935842442307155|\n",
            "|MICROSOFT| -28.48665485681051|\n",
            "|   GOOGLE| -38.58473803568448|\n",
            "|   AMAZON|   -49.865712655424|\n",
            "|     META| -64.42802227615097|\n",
            "+---------+-------------------+\n",
            "\n"
          ]
        }
      ]
    }
  ],
  "metadata": {
    "colab": {
      "provenance": [],
      "include_colab_link": true
    },
    "gpuClass": "standard",
    "kernelspec": {
      "display_name": "Python 3 (ipykernel)",
      "language": "python",
      "name": "python3"
    },
    "language_info": {
      "codemirror_mode": {
        "name": "ipython",
        "version": 3
      },
      "file_extension": ".py",
      "mimetype": "text/x-python",
      "name": "python",
      "nbconvert_exporter": "python",
      "pygments_lexer": "ipython3",
      "version": "3.10.4"
    },
    "nteract": {
      "version": "0.28.0"
    }
  },
  "nbformat": 4,
  "nbformat_minor": 0
}